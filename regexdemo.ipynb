{
 "cells": [
  {
   "cell_type": "code",
   "execution_count": 2,
   "metadata": {},
   "outputs": [],
   "source": [
    "import re"
   ]
  },
  {
   "cell_type": "code",
   "execution_count": 7,
   "metadata": {},
   "outputs": [
    {
     "name": "stdout",
     "output_type": "stream",
     "text": [
      "['python']\n"
     ]
    }
   ],
   "source": [
    "# Task 1 match string\n",
    "pattern = re.compile(r'python')\n",
    "print(pattern.findall('I am learning python programming'))"
   ]
  },
  {
   "cell_type": "code",
   "execution_count": 8,
   "metadata": {},
   "outputs": [
    {
     "name": "stdout",
     "output_type": "stream",
     "text": [
      "['u', 'e', 'a', 'i', 'a', 'i', 'i', 'i', 'e', 'i', 'a', 'i', 'o', 'i', 'o', 'u']\n"
     ]
    }
   ],
   "source": [
    "#Task 2 Find all vowels in the string\n",
    "pattern2 = re.compile(r'[aeiou]')\n",
    "print(pattern2.findall('supercalifragilisticexpialidocious'))"
   ]
  },
  {
   "cell_type": "code",
   "execution_count": 9,
   "metadata": {},
   "outputs": [
    {
     "name": "stdout",
     "output_type": "stream",
     "text": [
      "['s', 'p', 'r', 'c', 'l', 'f', 'r', 'g', 'l', 's', 't', 'c', 'x', 'p', 'l', 'd', 'c', 's']\n"
     ]
    }
   ],
   "source": [
    "# Task 3 Find all characters that are not vowels in the string\n",
    "pattern3 = re.compile(r'[^aeiou]')\n",
    "print(pattern3.findall('supercalifragilisticexpialidocious'))"
   ]
  },
  {
   "cell_type": "code",
   "execution_count": 11,
   "metadata": {},
   "outputs": [
    {
     "name": "stdout",
     "output_type": "stream",
     "text": [
      "['123', '456', '7890']\n"
     ]
    }
   ],
   "source": [
    "#Task 4 Extract all digits from the string\n",
    "pattern4= re.compile(r'\\d+')\n",
    "print(pattern4.findall('My number is 123-456-7890'))"
   ]
  },
  {
   "cell_type": "code",
   "execution_count": 13,
   "metadata": {},
   "outputs": [
    {
     "name": "stdout",
     "output_type": "stream",
     "text": [
      "['Start']\n"
     ]
    }
   ],
   "source": [
    "# Task 5 Check if the string 'Start here' starts with 'Start'\n",
    "pattern5 = re.compile(r'^Start')\n",
    "print(pattern5.findall('Start here'))"
   ]
  },
  {
   "cell_type": "code",
   "execution_count": 14,
   "metadata": {},
   "outputs": [
    {
     "name": "stdout",
     "output_type": "stream",
     "text": [
      "['here']\n"
     ]
    }
   ],
   "source": [
    "# Task 6 Check if the string 'End here' ends with 'here'\n",
    "pattern6 = re.compile(r'here$')\n",
    "print(pattern6.findall('End here'))"
   ]
  },
  {
   "cell_type": "code",
   "execution_count": 16,
   "metadata": {},
   "outputs": [
    {
     "name": "stdout",
     "output_type": "stream",
     "text": [
      "['1', '2', '3', '4', '5', '6', '7', '8', '9']\n"
     ]
    }
   ],
   "source": [
    "# Task 7 Find all sequences of digits in the string 'abc123def456ghi789'\n",
    "pattern7 = re.compile(r'\\d')\n",
    "print(pattern7.findall('abc123def456ghi789'))\n"
   ]
  },
  {
   "cell_type": "code",
   "execution_count": 17,
   "metadata": {},
   "outputs": [
    {
     "name": "stdout",
     "output_type": "stream",
     "text": [
      "['123', '456', '789']\n"
     ]
    }
   ],
   "source": [
    "# Task 8 Find sequences of one or more digits in the string 'abc123def456ghi789'\n",
    "pattern8 = re.compile(r'\\d{3}')\n",
    "print(pattern8.findall('abc123def456ghi789'))\n"
   ]
  },
  {
   "cell_type": "code",
   "execution_count": 23,
   "metadata": {},
   "outputs": [
    {
     "name": "stdout",
     "output_type": "stream",
     "text": [
      "['grey', 'gray']\n"
     ]
    }
   ],
   "source": [
    "# Task 9 Match the words 'gray' and 'grey' in the string 'The color can be gray or grey'\n",
    "pattern9 = re.compile(r'gr[ae]y')\n",
    "print(pattern9.findall('grey gray'))"
   ]
  },
  {
   "cell_type": "code",
   "execution_count": 24,
   "metadata": {},
   "outputs": [
    {
     "name": "stdout",
     "output_type": "stream",
     "text": [
      "['1234', '5678', '9101', '1213']\n"
     ]
    }
   ],
   "source": [
    "# Task 10 Extract sequences of exactly 4 digits from the string '1234 5678 91011 121314\n",
    "pattern10 = re.compile(r'\\d{4}')\n",
    "print(pattern10.findall('1234 5678 91011 121314'))"
   ]
  },
  {
   "cell_type": "code",
   "execution_count": 29,
   "metadata": {},
   "outputs": [
    {
     "name": "stdout",
     "output_type": "stream",
     "text": [
      "['42', '423', '4234']\n"
     ]
    }
   ],
   "source": [
    "# Task 11 Find sequences of 2 or more digits in the string '4 42 423 4234'\n",
    "pattern11 = re.compile(r'\\d{2,}')\n",
    "print(pattern11.findall('4 42 423 4234'))"
   ]
  },
  {
   "cell_type": "code",
   "execution_count": 30,
   "metadata": {},
   "outputs": [
    {
     "name": "stdout",
     "output_type": "stream",
     "text": [
      "['123', '1234', '12345', '123456']\n"
     ]
    }
   ],
   "source": [
    "# Task 12 Find sequences of 2 to 5 digits in the string '123 1234 12345 123456'\n",
    "pattern12 = re.compile(r'\\d{2,}')\n",
    "print(pattern12.findall('123 1234 12345 123456'))"
   ]
  },
  {
   "cell_type": "code",
   "execution_count": 33,
   "metadata": {},
   "outputs": [
    {
     "name": "stdout",
     "output_type": "stream",
     "text": [
      "area code: 800\n",
      "prefix: 555\n",
      "line number: 1212\n"
     ]
    }
   ],
   "source": [
    "#Task 13 Extract the area code, prefix, and line number from the phone number ''\n",
    "pattern13 = re.compile(r'\\d{3}-\\d{3}-\\d{4}')\n",
    "a=\"800-555-1212\"\n",
    "match=pattern13.finditer(a)\n",
    "for i in match:\n",
    "    a,b,c=i.group().split(\"-\")\n",
    "    print(\"area code:\",a)\n",
    "    print(\"prefix:\",b)\n",
    "    print(\"line number:\",c)\n"
   ]
  },
  {
   "cell_type": "code",
   "execution_count": 43,
   "metadata": {},
   "outputs": [
    {
     "name": "stdout",
     "output_type": "stream",
     "text": [
      "['cat', 'dog']\n"
     ]
    }
   ],
   "source": [
    "# Task 14 Match the word 'cat' or 'dog' in the string 'I have a cat and a dog'\n",
    "pattern14 = re.compile(r'cat|dog')\n",
    "print(pattern14.findall('I have a cat and a dog'))"
   ]
  },
  {
   "cell_type": "code",
   "execution_count": 3,
   "metadata": {},
   "outputs": [
    {
     "name": "stdout",
     "output_type": "stream",
     "text": [
      "['end']\n"
     ]
    }
   ],
   "source": [
    "# Task 15 Find the word 'end' at a word boundary in the string 'end the endless journey'\n",
    "pattern15 = re.compile(r'\\bend\\b')\n",
    "print(pattern15.findall('end the endless journey'))\n"
   ]
  },
  {
   "cell_type": "code",
   "execution_count": 6,
   "metadata": {},
   "outputs": [
    {
     "name": "stdout",
     "output_type": "stream",
     "text": [
      "['end']\n"
     ]
    }
   ],
   "source": [
    "# Task 16 Find the word 'end' not at a word boundary in the string 'friendship ends here'\n",
    "pattern16 = re.compile(r'\\Bend\\B')\n",
    "print(pattern16.findall('friendship ends here'))\n"
   ]
  },
  {
   "cell_type": "code",
   "execution_count": 7,
   "metadata": {},
   "outputs": [
    {
     "name": "stdout",
     "output_type": "stream",
     "text": [
      "['.', '.']\n"
     ]
    }
   ],
   "source": [
    "# Task 17Escape the dot character to find all dots in the string 'www.example.com'\n",
    "pattern17 = re.compile(r'\\.')\n",
    "print(pattern17.findall('www.example.com'))"
   ]
  },
  {
   "cell_type": "code",
   "execution_count": 9,
   "metadata": {},
   "outputs": [
    {
     "name": "stdout",
     "output_type": "stream",
     "text": [
      "['regex']\n"
     ]
    }
   ],
   "source": [
    "# Task 18 Match the exact string 'regex' in 'This is a regex example'\n",
    "pattern18 = re.compile(r'regex')\n",
    "print(pattern18.findall( 'This is a regex example'))\n"
   ]
  },
  {
   "cell_type": "code",
   "execution_count": 10,
   "metadata": {},
   "outputs": [
    {
     "name": "stdout",
     "output_type": "stream",
     "text": [
      "['R', 'g', 'l', 'r', ' ', 'E', 'x', 'p', 'r', 's', 's', 'n', 's']\n"
     ]
    }
   ],
   "source": [
    "# Task 19 Find all consonants in the string 'Regular Expressions'\n",
    "pattern19 = re.compile(r'[^aeiouAeiou]')\n",
    "print(pattern19.findall( 'Regular Expressions'))"
   ]
  },
  {
   "cell_type": "code",
   "execution_count": 11,
   "metadata": {},
   "outputs": [
    {
     "name": "stdout",
     "output_type": "stream",
     "text": [
      "['e', 'l', 'l', 'o', 'o', 'r', 'l', 'd']\n"
     ]
    }
   ],
   "source": [
    "# Task 20 Extract all lowercase letters from the string 'Hello World!'\n",
    "pattern20 = re.compile(r'[a-z]')\n",
    "print(pattern20.findall( 'Hello World!'))\n"
   ]
  },
  {
   "cell_type": "code",
   "execution_count": 12,
   "metadata": {},
   "outputs": [
    {
     "name": "stdout",
     "output_type": "stream",
     "text": [
      "Match found:abc\n"
     ]
    }
   ],
   "source": [
    "# Task 21 Check if the string 'abc123' starts with 'abc'\n",
    "pattern21 = re.compile(r'abc')\n",
    "match =pattern21.match('abc123')\n",
    "if match:\n",
    "    print(f'Match found:{match.group()}')\n",
    "else:\n",
    "    print('Not Found')"
   ]
  },
  {
   "cell_type": "code",
   "execution_count": 16,
   "metadata": {},
   "outputs": [
    {
     "name": "stdout",
     "output_type": "stream",
     "text": [
      "Not Found\n"
     ]
    }
   ],
   "source": [
    "# Task 22 Check if the string '123abc' ends with 'abc'\n",
    "pattern22 = re.compile(r'123abc')\n",
    "match1 =pattern21.match('123abc')\n",
    "if match1:\n",
    "    print(f'Match found:{match1.group()}')\n",
    "else:\n",
    "    print('Not Found')"
   ]
  },
  {
   "cell_type": "code",
   "execution_count": null,
   "metadata": {},
   "outputs": [],
   "source": []
  }
 ],
 "metadata": {
  "kernelspec": {
   "display_name": "Python 3",
   "language": "python",
   "name": "python3"
  },
  "language_info": {
   "codemirror_mode": {
    "name": "ipython",
    "version": 3
   },
   "file_extension": ".py",
   "mimetype": "text/x-python",
   "name": "python",
   "nbconvert_exporter": "python",
   "pygments_lexer": "ipython3",
   "version": "3.12.3"
  }
 },
 "nbformat": 4,
 "nbformat_minor": 2
}
